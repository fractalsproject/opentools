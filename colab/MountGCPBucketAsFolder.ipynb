{
  "nbformat": 4,
  "nbformat_minor": 0,
  "metadata": {
    "colab": {
      "name": "MountGCPBucketAsFolder.ipynb",
      "provenance": [],
      "collapsed_sections": [],
      "authorship_tag": "ABX9TyOpArXVLIR0yoZQhCt+m4Mp",
      "include_colab_link": true
    },
    "kernelspec": {
      "name": "python3",
      "display_name": "Python 3"
    }
  },
  "cells": [
    {
      "cell_type": "markdown",
      "metadata": {
        "id": "view-in-github",
        "colab_type": "text"
      },
      "source": [
        "<a href=\"https://colab.research.google.com/github/fractalsproject/opentools/blob/master/colab/MountGCPBucketAsFolder.ipynb\" target=\"_parent\"><img src=\"https://colab.research.google.com/assets/colab-badge.svg\" alt=\"Open In Colab\"/></a>"
      ]
    },
    {
      "cell_type": "markdown",
      "metadata": {
        "id": "dHccfVfY9nTf",
        "colab_type": "text"
      },
      "source": [
        "This notebook shows how to make the data in a Google Cloud Platform bucket available as a local folder in your notebook.  It assumes that you have already registered for a Google Cloud account.\n",
        "\n",
        "\n"
      ]
    },
    {
      "cell_type": "markdown",
      "metadata": {
        "id": "8eS55rr7-VO4",
        "colab_type": "text"
      },
      "source": [
        "When you run the next cell for the first time, it will emit a URL in the cell output.  You need to click on the URL and log in to your Google Cloud account.  After successful login, it will give you a code that you need to copy/paste back into the notebook ( you should see a text box near the URL - paste it into there. )\n",
        "\n",
        "After that it checks to see if the bucket has already been mounted to the local folder \"folderOnColab.\"  If not, it will run the \"gcsfuse\" utility and it will mount a public bucket called \"deepsignal\" to a local folder called \"folderOnColab.\"  Then it will list the contents of the local directory, which will match the contents of the bucket.\n",
        "\n",
        "You should be able to modify this example for your own notebook, using a different Google Cloud bucket for which you have access and/or already uploaded data.  You can change the local folder name to whatever you like.\n",
        "\n"
      ]
    },
    {
      "cell_type": "code",
      "metadata": {
        "id": "2uXdSgw-73jf",
        "colab_type": "code",
        "colab": {
          "base_uri": "https://localhost:8080/",
          "height": 68
        },
        "outputId": "6b0cfd79-c422-44c4-fb6f-f42757c5a12b"
      },
      "source": [
        "import os\n",
        "from google.colab import auth\n",
        "\n",
        "if not os.path.exists(\"/content/folderOnColab\"):\n",
        "\n",
        "  print(\"Could not find local folder 'folderOnColab', mounting it with gcsfuse.\")\n",
        "\n",
        "  # mount storage bucket as a folder\n",
        "  auth.authenticate_user()\n",
        "  !echo \"deb http://packages.cloud.google.com/apt gcsfuse-bionic main\" > /etc/apt/sources.list.d/gcsfuse.list\n",
        "  !curl https://packages.cloud.google.com/apt/doc/apt-key.gpg | apt-key add -\n",
        "  !apt -qq update\n",
        "  !apt -qq install gcsfuse\n",
        "\n",
        "  !mkdir folderOnColab\n",
        "  !gcsfuse --implicit-dirs deepsignal folderOnColab\n",
        "  print(\"Mount completed.  Listing the contents of the folder.\")\n",
        "  !ls folderOnColab\n",
        "else:\n",
        "\n",
        "  print(\"Mount folder exists.  Listing the contents of the folder:\")\n",
        "  !ls folderOnColab\n",
        "\n",
        "  print(\"Note, that if you are having trouble, consider removing the local mount path using this command in another notebook cell \\\"!rm -r folderOnColab\\\"\")\n"
      ],
      "execution_count": 8,
      "outputs": [
        {
          "output_type": "stream",
          "text": [
            "Mount folder exists.  Listing the contents of the folder:\n",
            "data  resnetweights\n",
            "Note, that if you are having trouble, consider removing the local mount path using this command in another notebook cell \"!rm -r folderOnColab\"\n"
          ],
          "name": "stdout"
        }
      ]
    }
  ]
}